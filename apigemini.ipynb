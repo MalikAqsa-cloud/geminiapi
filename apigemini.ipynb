{
 "cells": [
  {
   "cell_type": "code",
   "execution_count": 1,
   "id": "8501439f",
   "metadata": {},
   "outputs": [
    {
     "name": "stdout",
     "output_type": "stream",
     "text": [
      "Hello World\n"
     ]
    }
   ],
   "source": [
    "print(\"Hello World\")\n",
    "# install this pip install google-genai\n",
    "# Install from Cursor or Vscode AI or in your venv\n",
    "# pip install python-dotenv\n",
    "# pip install google-generativea\n"
   ]
  },
  {
   "cell_type": "code",
   "execution_count": 1,
   "id": "2093d704",
   "metadata": {},
   "outputs": [
    {
     "name": "stderr",
     "output_type": "stream",
     "text": [
      "/home/admin1/geminiapi/.venv/lib/python3.12/site-packages/tqdm/auto.py:21: TqdmWarning: IProgress not found. Please update jupyter and ipywidgets. See https://ipywidgets.readthedocs.io/en/stable/user_install.html\n",
      "  from .autonotebook import tqdm as notebook_tqdm\n"
     ]
    },
    {
     "name": "stdout",
     "output_type": "stream",
     "text": [
      "Artificial intelligence (AI) encompasses a broad range of techniques, but at its core, it's about creating systems that can perform tasks that typically require human intelligence.  These tasks include things like learning, problem-solving, decision-making, speech recognition, and visual perception.  There's no single \"how\" because different AI approaches use different methods, but here's a breakdown of key concepts:\n",
      "\n",
      "**1. Machine Learning (ML):** This is arguably the most prominent approach to AI today.  Instead of explicitly programming a computer to perform a specific task, ML algorithms learn from data.  They identify patterns, make predictions, and improve their performance over time without being explicitly programmed for each scenario.  Key types of ML include:\n",
      "\n",
      "* **Supervised Learning:** The algorithm learns from labeled data (data where the desired output is already known).  For example, showing an image classifier thousands of images of cats and dogs, labeled accordingly, allows it to learn to distinguish between them.\n",
      "* **Unsupervised Learning:** The algorithm learns from unlabeled data, identifying patterns and structures on its own.  Clustering similar data points together is an example.\n",
      "* **Reinforcement Learning:** The algorithm learns through trial and error, receiving rewards for correct actions and penalties for incorrect ones.  This is commonly used in robotics and game playing.\n",
      "\n",
      "**2. Deep Learning (DL):** This is a subset of ML that uses artificial neural networks with multiple layers (hence \"deep\").  These networks are inspired by the structure and function of the human brain.  Deep learning excels at tasks involving complex patterns and large datasets, like image recognition, natural language processing, and speech recognition.\n",
      "\n",
      "**3. Natural Language Processing (NLP):**  This focuses on enabling computers to understand, interpret, and generate human language.  Techniques used include sentiment analysis (determining the emotional tone of text), machine translation, and chatbot development.\n",
      "\n",
      "**4. Computer Vision:** This involves enabling computers to \"see\" and interpret images and videos.  This is used in applications like object recognition, facial recognition, and self-driving cars.\n",
      "\n",
      "**5. Expert Systems:** These are rule-based systems that mimic the decision-making ability of a human expert in a specific domain.  They use a knowledge base of facts and rules to answer questions and solve problems.  This approach is less common now compared to ML and DL.\n",
      "\n",
      "**In simpler terms:** Imagine teaching a child to identify a cat.  You show them many pictures of cats, pointing out their features (whiskers, pointy ears, etc.).  Over time, the child learns to recognize cats even if they haven't seen that specific cat before.  Machine learning is similar – it learns from data, identifies patterns, and makes predictions based on those patterns.  Deep learning takes this further by using more complex models that can learn even more intricate patterns.\n",
      "\n",
      "\n",
      "It's important to note that AI is constantly evolving.  New techniques and algorithms are being developed all the time, pushing the boundaries of what's possible.  The \"how\" of AI is complex and multifaceted, but the underlying principle is to create systems that can learn, adapt, and solve problems in ways that mimic or even surpass human capabilities.\n",
      "\n"
     ]
    }
   ],
   "source": [
    "import os\n",
    "from dotenv import load_dotenv\n",
    "import google.generativeai as genai\n",
    "\n",
    "# 👇 Load environment variables from .env file\n",
    "load_dotenv()\n",
    "\n",
    "# 👇 Now get the API key\n",
    "api_key = os.getenv(\"GEMINI_API_KEY\")\n",
    "\n",
    "if not api_key:\n",
    "    raise ValueError(\"GEMINI_API_KEY environment variable not set\")\n",
    "\n",
    "genai.configure(api_key=api_key)\n",
    "\n",
    "model = genai.GenerativeModel(\"gemini-1.5-flash\")\n",
    "\n",
    "response = model.generate_content(\"How does AI work?\")\n",
    "print(response.text)"
   ]
  },
  {
   "cell_type": "code",
   "execution_count": 6,
   "id": "8c92293a",
   "metadata": {},
   "outputs": [
    {
     "name": "stdout",
     "output_type": "stream",
     "text": [
      "I understand you're experiencing pain in your lower abdomen.  As a gynecologist, I need to emphasize that I cannot diagnose medical conditions online.  Lower abdominal pain can have many causes, ranging from relatively benign to more serious.  Some possibilities include:\n",
      "\n",
      "* **Menstrual cramps (dysmenorrhea):**  This is a common cause of lower abdominal pain, often accompanied by other symptoms like bloating, fatigue, and backache.\n",
      "\n",
      "* **Ovulation pain (mittelschmerz):**  Some women experience sharp, stabbing pain on one side of their lower abdomen during ovulation.\n",
      "\n",
      "* **Ovarian cysts:** These fluid-filled sacs on the ovaries can cause pain, sometimes severe.\n",
      "\n",
      "* **Endometriosis:** This condition involves the growth of uterine tissue outside of the uterus, leading to pain and other symptoms.\n",
      "\n",
      "* **Pelvic inflammatory disease (PID):** A serious infection of the female reproductive organs, often caused by sexually transmitted infections (STIs).  This can cause severe pain and requires immediate medical attention.\n",
      "\n",
      "* **Ectopic pregnancy:**  A pregnancy that implants outside the uterus, usually in a fallopian tube. This is a medical emergency.\n",
      "\n",
      "* **Appendicitis:** While not strictly a gynecological issue, appendicitis can cause lower abdominal pain, often starting around the navel and migrating to the lower right abdomen.\n",
      "\n",
      "* **Gastrointestinal issues:** Conditions like constipation, irritable bowel syndrome (IBS), or gastroenteritis can also cause abdominal pain.\n",
      "\n",
      "* **Urinary tract infection (UTI):**  While often associated with pain during urination, UTIs can sometimes cause lower abdominal discomfort.\n",
      "\n",
      "* **Other causes:**  There are other less common causes of lower abdominal pain that a doctor would need to consider.\n",
      "\n",
      "\n",
      "**Because the causes are varied and some are serious, it's crucial that you see a doctor or other healthcare professional as soon as possible to get a proper diagnosis and treatment.**  They will be able to perform a physical exam, possibly order blood tests or imaging studies (like an ultrasound), and determine the underlying cause of your pain.\n",
      "\n",
      "**Do not delay seeking medical care, especially if you experience:**\n",
      "\n",
      "* **Severe pain**\n",
      "* **Fever**\n",
      "* **Vaginal bleeding**\n",
      "* **Pain during urination or bowel movements**\n",
      "* **Nausea or vomiting**\n",
      "* **Shoulder pain (may indicate internal bleeding)**\n",
      "\n",
      "\n",
      "This information is for general knowledge and does not constitute medical advice.  Please consult a healthcare professional for diagnosis and treatment.\n",
      "\n"
     ]
    }
   ],
   "source": [
    "import os\n",
    "from dotenv import load_dotenv\n",
    "import google.generativeai as genai\n",
    "\n",
    "# Load your API key from the .env file\n",
    "load_dotenv()\n",
    "api_key = os.getenv(\"GEMINI_API_KEY\")\n",
    "\n",
    "if not api_key:\n",
    "    raise ValueError(\"GEMINI_API_KEY not found in environment variables.\")\n",
    "\n",
    "# Configure the genai client\n",
    "genai.configure(api_key=api_key)\n",
    "\n",
    "# Create a generative model instance\n",
    "model = genai.GenerativeModel(\n",
    "    model_name=\"gemini-1.5-flash\",  # Use a correct model name\n",
    "    system_instruction=\"I am a gynecologist. I specialize in women's reproductive health.\"\n",
    ")\n",
    "\n",
    "# Send the prompt to the model\n",
    "response = model.generate_content(\"I feel pain in my lower abdomen\")\n",
    "\n",
    "# Print the response\n",
    "print(response.text)\n"
   ]
  },
  {
   "cell_type": "code",
   "execution_count": null,
   "id": "0730b802",
   "metadata": {},
   "outputs": [],
   "source": []
  }
 ],
 "metadata": {
  "kernelspec": {
   "display_name": ".venv",
   "language": "python",
   "name": "python3"
  },
  "language_info": {
   "codemirror_mode": {
    "name": "ipython",
    "version": 3
   },
   "file_extension": ".py",
   "mimetype": "text/x-python",
   "name": "python",
   "nbconvert_exporter": "python",
   "pygments_lexer": "ipython3",
   "version": "3.12.3"
  }
 },
 "nbformat": 4,
 "nbformat_minor": 5
}
